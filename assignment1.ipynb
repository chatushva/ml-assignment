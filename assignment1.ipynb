{
  "nbformat": 4,
  "nbformat_minor": 0,
  "metadata": {
    "colab": {
      "provenance": [],
      "authorship_tag": "ABX9TyNkx2U9ZImcGkYQqiRrGB7z",
      "include_colab_link": true
    },
    "kernelspec": {
      "name": "python3",
      "display_name": "Python 3"
    },
    "language_info": {
      "name": "python"
    }
  },
  "cells": [
    {
      "cell_type": "markdown",
      "metadata": {
        "id": "view-in-github",
        "colab_type": "text"
      },
      "source": [
        "<a href=\"https://colab.research.google.com/github/chatushva/ml-assignment/blob/main/assignment1.ipynb\" target=\"_parent\"><img src=\"https://colab.research.google.com/assets/colab-badge.svg\" alt=\"Open In Colab\"/></a>"
      ]
    },
    {
      "cell_type": "markdown",
      "source": [
        "1. Perform arithmetic operations on NumPy arrays."
      ],
      "metadata": {
        "id": "kj-F35KzuUK_"
      }
    },
    {
      "cell_type": "code",
      "execution_count": 7,
      "metadata": {
        "colab": {
          "base_uri": "https://localhost:8080/"
        },
        "id": "ok_MrIDTkkNS",
        "outputId": "d22ba12f-1a6d-41c0-c3f5-dd8ec050836f"
      },
      "outputs": [
        {
          "output_type": "stream",
          "name": "stdout",
          "text": [
            "addition is: [3 5 7]\n",
            "subtaction is: [-1 -1 -1]\n",
            "multiplication is [ 2  6 12]\n",
            "division is: [0.5        0.66666667 0.75      ]\n",
            "modulus division is: [1 2 3]\n",
            "exponent is: [ 1  8 81]\n"
          ]
        }
      ],
      "source": [
        "import numpy as np\n",
        "a=np.array([1,2,3])\n",
        "b=np.array([2,3,4])\n",
        "print(\"addition is:\",a+b)\n",
        "print(\"subtaction is:\",a-b)\n",
        "print(\"multiplication is\",a*b)\n",
        "print(\"division is:\",a/b)\n",
        "print(\"modulus division is:\",a%b)\n",
        "print(\"exponent is:\",a**b)"
      ]
    },
    {
      "cell_type": "markdown",
      "source": [
        "2. Write a script to compute the mean and standard deviation of a NumPy array."
      ],
      "metadata": {
        "id": "I8roMZV3uens"
      }
    },
    {
      "cell_type": "markdown",
      "source": [
        "2)mean<br>\n",
        "In numpy mean function returns the average of the elements in array a. <br>\n",
        "example:\n"
      ],
      "metadata": {
        "id": "UAKQfaMXnStL"
      }
    },
    {
      "cell_type": "code",
      "source": [
        "x=np.array([1,2,3,4,5,6,7,8])\n",
        "print(\"mean of array is\",np.mean(x))"
      ],
      "metadata": {
        "id": "zcQp0xPVqdmw",
        "colab": {
          "base_uri": "https://localhost:8080/"
        },
        "outputId": "c80658bd-b2d6-4110-eafe-0afbbaf82abf"
      },
      "execution_count": 11,
      "outputs": [
        {
          "output_type": "stream",
          "name": "stdout",
          "text": [
            "mean of array is 4.5\n"
          ]
        }
      ]
    },
    {
      "cell_type": "markdown",
      "source": [
        "standard deviation<br>\n",
        "stdev() method calculates the standard deviation from a sample of data of array. Standard deviation is a measure of how spread out the numbers are.<br>\n",
        "example:"
      ],
      "metadata": {
        "id": "uZh0nT1BrT20"
      }
    },
    {
      "cell_type": "code",
      "source": [
        "b=([1,2,3,4,5,6,7,8,9,10])\n",
        "print(\"standard deviation is\",np.std(b))"
      ],
      "metadata": {
        "colab": {
          "base_uri": "https://localhost:8080/"
        },
        "id": "5P872B3DrvDb",
        "outputId": "a5628ae4-29d3-434b-ece7-a6864f600ba7"
      },
      "execution_count": 12,
      "outputs": [
        {
          "output_type": "stream",
          "name": "stdout",
          "text": [
            "standard deviation is 2.8722813232690143\n"
          ]
        }
      ]
    },
    {
      "cell_type": "markdown",
      "source": [
        "3. Create a NumPy array of integers from 10 to 50 with a step size of 5."
      ],
      "metadata": {
        "id": "DSh5qQsVuoxq"
      }
    },
    {
      "cell_type": "code",
      "source": [
        "arr=np.arange(10,51,5)\n",
        "print(arr)"
      ],
      "metadata": {
        "colab": {
          "base_uri": "https://localhost:8080/"
        },
        "id": "MIZCbgUGsp2z",
        "outputId": "1a570459-82a5-43ca-deaf-8e89fecdbe7c"
      },
      "execution_count": 16,
      "outputs": [
        {
          "output_type": "stream",
          "name": "stdout",
          "text": [
            "[10 15 20 25 30 35 40 45 50]\n"
          ]
        }
      ]
    },
    {
      "cell_type": "markdown",
      "source": [
        "4. Reshape the array into a 2x4 matrix."
      ],
      "metadata": {
        "id": "Ksa7-uzkuutI"
      }
    },
    {
      "cell_type": "code",
      "source": [
        "arr=np.array([1,2,3,4,5,6,7,8])\n",
        "r=arr.reshape(2,4)\n",
        "print(r)"
      ],
      "metadata": {
        "colab": {
          "base_uri": "https://localhost:8080/"
        },
        "id": "QeCvnCCfuzpk",
        "outputId": "ad234df5-4ec0-4e7e-dc40-99913b839cb9"
      },
      "execution_count": 25,
      "outputs": [
        {
          "output_type": "stream",
          "name": "stdout",
          "text": [
            "[[1 2 3 4]\n",
            " [5 6 7 8]]\n"
          ]
        }
      ]
    },
    {
      "cell_type": "markdown",
      "source": [
        "5. Given the array arr = np.array([[1, 2, 3], [4, 5, 6], [7, 8, 9]]):\n",
        "• Extract the sub-matrix containing the last two rows and first two columns.\n",
        "• Replace all elements greater than 4 with 0."
      ],
      "metadata": {
        "id": "MfGjS2ZQw1mc"
      }
    },
    {
      "cell_type": "code",
      "source": [
        "arr=np.array([[1,2,3],[4,5,6],[7,8,9]])\n",
        "print(arr[1:,:2])\n",
        "arr[arr>4]=0\n",
        "print(arr)"
      ],
      "metadata": {
        "colab": {
          "base_uri": "https://localhost:8080/"
        },
        "id": "VxRkkKjiw52F",
        "outputId": "5addf4ea-b0d3-480c-ad92-13474a8df79f"
      },
      "execution_count": 28,
      "outputs": [
        {
          "output_type": "stream",
          "name": "stdout",
          "text": [
            "[[4 5]\n",
            " [7 8]]\n",
            "[[1 2 3]\n",
            " [4 0 0]\n",
            " [0 0 0]]\n"
          ]
        }
      ]
    },
    {
      "cell_type": "markdown",
      "source": [
        "6. Create two 1D arrays:\n",
        "• a = np.array([1, 2, 3])\n",
        "• b = np.array([4, 5, 6])\n",
        "• Perform element-wise addition, multiplication, and division."
      ],
      "metadata": {
        "id": "hMPUc3R4xw1n"
      }
    },
    {
      "cell_type": "code",
      "source": [
        "a=np.array([1,2,3])\n",
        "b=np.array([4,5,6])\n",
        "print(\"addition is:\",a+b)\n",
        "print(\"multiplication is:\",a*b)\n",
        "print(\"division is:\",a/b)\n"
      ],
      "metadata": {
        "colab": {
          "base_uri": "https://localhost:8080/"
        },
        "id": "QqtOlSIwyvOE",
        "outputId": "18463cff-1b8f-44ce-df9a-6afa6a3b4d39"
      },
      "execution_count": 29,
      "outputs": [
        {
          "output_type": "stream",
          "name": "stdout",
          "text": [
            "addition is: [5 7 9]\n",
            "multiplication is: [ 4 10 18]\n",
            "division is: [0.25 0.4  0.5 ]\n"
          ]
        }
      ]
    },
    {
      "cell_type": "markdown",
      "source": [
        "7. Create a random NumPy array of size (4, 4). Compute:\n",
        "• Mean of each column.\n",
        "• Maximum value of the entire array.\n",
        "• Sum of all elements."
      ],
      "metadata": {
        "id": "XFZdaaFhz_eX"
      }
    },
    {
      "cell_type": "code",
      "source": [
        "arr=np.random.random((4,4))\n",
        "print(\"mean of each column is:\",np.mean(arr,axis=0))\n",
        "print(\"maximum value of the entire array is:\",np.max(arr))\n",
        "print(\"sum of all elements is:\",np.sum(arr))"
      ],
      "metadata": {
        "colab": {
          "base_uri": "https://localhost:8080/"
        },
        "id": "5q169dd50FGg",
        "outputId": "0257904c-e870-4a37-c873-c179abb62354"
      },
      "execution_count": 31,
      "outputs": [
        {
          "output_type": "stream",
          "name": "stdout",
          "text": [
            "mean of each column is: [0.5201055  0.91938467 0.44669578 0.47283775]\n",
            "maximum value of the entire array is: 0.9961369345603175\n",
            "sum of all elements is: 9.436094799349192\n"
          ]
        }
      ]
    },
    {
      "cell_type": "markdown",
      "source": [],
      "metadata": {
        "id": "IGcQ7O8d29o7"
      }
    },
    {
      "cell_type": "markdown",
      "source": [
        "8. Given the array arr = np.array([1, 2, 3, 4]), add 10 to each element and multiply\n",
        "the result by 2."
      ],
      "metadata": {
        "id": "JsMWqzuQ1IPr"
      }
    },
    {
      "cell_type": "code",
      "source": [
        "arr=np.array([1,2,3,4])\n",
        "r=arr+10\n",
        "print(r*2)"
      ],
      "metadata": {
        "colab": {
          "base_uri": "https://localhost:8080/"
        },
        "id": "NSMYqtxw1SU6",
        "outputId": "9e456fc2-81b4-401e-847e-8d2835c7f8e0"
      },
      "execution_count": 33,
      "outputs": [
        {
          "output_type": "stream",
          "name": "stdout",
          "text": [
            "[22 24 26 28]\n"
          ]
        }
      ]
    },
    {
      "cell_type": "markdown",
      "source": [
        "9. Perform advanced slicing and i\n",
        "ndexing on a 3D array.\n",
        "Create a 3D NumPy array arr of shape (3, 4, 5) with random integers ranging from\n",
        "1 to 100. Perform the following:\n",
        "• Extract the second \"layer\" (i.e., the second 2D array) in the first dimension.\n",
        "• Extract the first two rows and the last three columns from each \"layer.\"\n",
        "• Replace all elements divisible by 3 with -1."
      ],
      "metadata": {
        "id": "nlT1iPYc121Y"
      }
    },
    {
      "cell_type": "code",
      "source": [
        "arr=np.random.randint(1,100,(3,4,5))\n",
        "print(arr)\n",
        "print(arr[1])\n",
        "second_layer = arr[1, :, :]\n",
        "print(\"Second Layer (2D Array)\", second_layer)\n",
        "first_two_rows_last_three_cols = arr[:, :2,-3:]\n",
        "print(\"\\nFirst two rows and last three columns from each layer:\\n\", first_two_rows_last_three_cols)\n",
        "arr[arr % 3 == 0] = -1\n",
        "print(\"\\nArray after replacing elements divisible by 3 with -1:\\n\", arr)\n"
      ],
      "metadata": {
        "colab": {
          "base_uri": "https://localhost:8080/"
        },
        "id": "DTHGwohC2Cio",
        "outputId": "19bd0d78-c644-4ac6-f65b-032dcb38c879"
      },
      "execution_count": 45,
      "outputs": [
        {
          "output_type": "stream",
          "name": "stdout",
          "text": [
            "[[[33 35 82 91 81]\n",
            "  [97  7 91 15 96]\n",
            "  [ 9  6 55 75 12]\n",
            "  [92 62 70 12 64]]\n",
            "\n",
            " [[ 5 27 74 42 16]\n",
            "  [47 38 22 42 35]\n",
            "  [69 56 92  1 32]\n",
            "  [20 25 11  9 44]]\n",
            "\n",
            " [[53 52 21 18  3]\n",
            "  [77 12 66 70 23]\n",
            "  [59 61 68 42 66]\n",
            "  [31 62 22 87 47]]]\n",
            "[[ 5 27 74 42 16]\n",
            " [47 38 22 42 35]\n",
            " [69 56 92  1 32]\n",
            " [20 25 11  9 44]]\n",
            "Second Layer (2D Array) [[ 5 27 74 42 16]\n",
            " [47 38 22 42 35]\n",
            " [69 56 92  1 32]\n",
            " [20 25 11  9 44]]\n",
            "\n",
            "First two rows and last three columns from each layer:\n",
            " [[[82 91 81]\n",
            "  [91 15 96]]\n",
            "\n",
            " [[74 42 16]\n",
            "  [22 42 35]]\n",
            "\n",
            " [[21 18  3]\n",
            "  [66 70 23]]]\n",
            "\n",
            "Array after replacing elements divisible by 3 with -1:\n",
            " [[[-1 35 82 91 -1]\n",
            "  [97  7 91 -1 -1]\n",
            "  [-1 -1 55 -1 -1]\n",
            "  [92 62 70 -1 64]]\n",
            "\n",
            " [[ 5 -1 74 -1 16]\n",
            "  [47 38 22 -1 35]\n",
            "  [-1 56 92  1 32]\n",
            "  [20 25 11 -1 44]]\n",
            "\n",
            " [[53 52 -1 -1 -1]\n",
            "  [77 -1 -1 70 23]\n",
            "  [59 61 68 -1 -1]\n",
            "  [31 62 22 -1 47]]]\n"
          ]
        }
      ]
    },
    {
      "cell_type": "markdown",
      "source": [
        "10. Work with broadcasting and advanced operations in NumPy.\n",
        "Create a NumPy array arr of shape (3, 3) with random integers between  \n",
        "1 and 20. Perform the following:\n",
        "• Subtract the mean of each row from its respective elements (row-wise\n",
        "normalization).\n",
        "• Create a new array by squaring all the elements in arr.\n",
        "• Find the indices of the top 3 maximum values in the entire array."
      ],
      "metadata": {
        "id": "ElQ1U4wL2oYj"
      }
    },
    {
      "cell_type": "markdown",
      "source": [],
      "metadata": {
        "id": "faDMUKiK2sQI"
      }
    },
    {
      "cell_type": "code",
      "source": [
        "arr = np.random.randint(1, 21, size=(3, 3))\n",
        "print(\"Original Array:\\n\", arr)\n",
        "row_means = arr.mean(axis=1, keepdims=True)\n",
        "normalized_arr = arr - row_means\n",
        "print(\"\\nRow-wise Normalized Array:\\n\", normalized_arr)\n",
        "squared_arr = np.square(arr)\n",
        "print(\"\\nSquared Array:\\n\", squared_arr)\n",
        "top_3_indices = arr.ravel().argsort()[-3:][::-1]\n",
        "top_3_values = arr.ravel()[top_3_indices]\n",
        "print(\"\\nTop 3 Maximum Values:\", top_3_values)\n",
        "print(\"Indices of Top 3 Maximum Values:\", top_3_indices)"
      ],
      "metadata": {
        "colab": {
          "base_uri": "https://localhost:8080/"
        },
        "id": "j5k1k3kH3AN-",
        "outputId": "2dcb0354-c54e-4dd5-aad4-49315d9c3750"
      },
      "execution_count": 50,
      "outputs": [
        {
          "output_type": "stream",
          "name": "stdout",
          "text": [
            "Original Array:\n",
            " [[14  9 20]\n",
            " [13 10  7]\n",
            " [10 17 10]]\n",
            "\n",
            "Row-wise Normalized Array:\n",
            " [[-0.33333333 -5.33333333  5.66666667]\n",
            " [ 3.          0.         -3.        ]\n",
            " [-2.33333333  4.66666667 -2.33333333]]\n",
            "\n",
            "Squared Array:\n",
            " [[196  81 400]\n",
            " [169 100  49]\n",
            " [100 289 100]]\n",
            "\n",
            "Top 3 Maximum Values: [20 17 14]\n",
            "Indices of Top 3 Maximum Values: [2 7 0]\n"
          ]
        }
      ]
    }
  ]
}