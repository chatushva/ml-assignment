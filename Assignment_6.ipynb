{
  "cells": [
    {
      "cell_type": "markdown",
      "metadata": {
        "id": "view-in-github",
        "colab_type": "text"
      },
      "source": [
        "<a href=\"https://colab.research.google.com/github/chatushva/ml-assignment/blob/main/Assignment_6.ipynb\" target=\"_parent\"><img src=\"https://colab.research.google.com/assets/colab-badge.svg\" alt=\"Open In Colab\"/></a>"
      ]
    },
    {
      "cell_type": "markdown",
      "metadata": {
        "id": "x3_jp5GJQI9a"
      },
      "source": [
        "Regression"
      ]
    },
    {
      "cell_type": "markdown",
      "metadata": {
        "id": "NoqRQUouQKws"
      },
      "source": []
    },
    {
      "cell_type": "code",
      "execution_count": null,
      "metadata": {
        "id": "UnJX5Yb1QOgo"
      },
      "outputs": [],
      "source": [
        "import pandas as pd\n",
        "from sklearn.model_selection import train_test_split\n",
        "from sklearn.preprocessing import OneHotEncoder\n",
        "file_path = '/content/50 StartUp Companies Database (1).xlsx'\n",
        "data = pd.read_excel(file_path)\n",
        "data = pd.get_dummies(data, columns=['State'], drop_first=True)\n",
        "X = data.drop('Profit', axis=1)\n",
        "y = data['Profit']\n",
        "X_train, X_test, y_train, y_test = train_test_split(X, y, test_size=0.2, random_state=42)"
      ]
    },
    {
      "cell_type": "code",
      "execution_count": null,
      "metadata": {
        "id": "ZUowrBfIQgH2"
      },
      "outputs": [],
      "source": [
        "\n",
        "from sklearn.linear_model import LinearRegression\n",
        "from sklearn.metrics import mean_absolute_error, mean_squared_error, r2_score\n",
        "import numpy as np\n",
        "linear_model = LinearRegression()\n",
        "linear_model.fit(X_train, y_train)\n",
        "y_pred = linear_model.predict(X_test)\n",
        "mae = mean_absolute_error(y_test, y_pred)\n",
        "mse = mean_squared_error(y_test, y_pred)\n",
        "rmse = np.sqrt(mse)\n",
        "r2 = r2_score(y_test, y_pred)\n",
        "print(\"No Regularization (Simple Linear Regression):\")\n",
        "print(f\"MAE: {mae}, MSE: {mse}, RMSE: {rmse}, R2 Score: {r2}\")"
      ]
    },
    {
      "cell_type": "code",
      "execution_count": null,
      "metadata": {
        "id": "gMuwHCkPQtsb"
      },
      "outputs": [],
      "source": [
        "\n",
        "\n",
        "from sklearn.linear_model import Lasso\n",
        "lasso_model = Lasso(alpha=1.0)\n",
        "lasso_model.fit(X_train, y_train)\n",
        "y_pred_lasso = lasso_model.predict(X_test)\n",
        "mae = mean_absolute_error(y_test, y_pred_lasso)\n",
        "mse = mean_squared_error(y_test, y_pred_lasso)\n",
        "rmse = np.sqrt(mse)\n",
        "r2 = r2_score(y_test, y_pred_lasso)\n",
        "print(\"L1 Regularization (Lasso Regression):\")\n",
        "print(f\"MAE: {mae}, MSE: {mse}, RMSE: {rmse}, R2 Score: {r2}\")"
      ]
    },
    {
      "cell_type": "markdown",
      "metadata": {
        "id": "xBxlHCgMRAAp"
      },
      "source": [
        "L2 regularization"
      ]
    },
    {
      "cell_type": "code",
      "execution_count": null,
      "metadata": {
        "colab": {
          "background_save": true
        },
        "id": "BdI5TyalRSA1",
        "outputId": "1fb24019-f881-42ed-a521-a154e771040e"
      },
      "outputs": [
        {
          "ename": "SyntaxError",
          "evalue": "unterminated string literal (detected at line 10) (<ipython-input-5-5d0971ac7070>, line 10)",
          "output_type": "error",
          "traceback": [
            "\u001b[0;36m  File \u001b[0;32m\"<ipython-input-5-5d0971ac7070>\"\u001b[0;36m, line \u001b[0;32m10\u001b[0m\n\u001b[0;31m    print(f\"MAE: {mae}, MSE: {mse}, RM\u001b[0m\n\u001b[0m          ^\u001b[0m\n\u001b[0;31mSyntaxError\u001b[0m\u001b[0;31m:\u001b[0m unterminated string literal (detected at line 10)\n"
          ]
        }
      ],
      "source": [
        "\n",
        "from sklearn.linear_model import Ridge\n",
        "ridge_model = Ridge(alpha=1.0)\n",
        "ridge_model.fit(X_train, y_train)\n",
        "y_pred_ridge = ridge_model.predict(X_test)\n",
        "mae = mean_absolute_error(y_test, y_pred_ridge)\n",
        "mse = mean_squared_error(y_test, y_pred_ridge)\n",
        "rmse = np.sqrt(mse)\n",
        "r2 = r2_score(y_test, y_pred_ridge)\n",
        "print(\"L2 Regularization (Ridge Regression):\")\n",
        "print(f\"MAE: {mae}, MSE: {mse}, RM"
      ]
    }
  ],
  "metadata": {
    "colab": {
      "provenance": [],
      "authorship_tag": "ABX9TyOKh9s3CwZRQX0MYEldjjQa",
      "include_colab_link": true
    },
    "kernelspec": {
      "display_name": "Python 3",
      "name": "python3"
    },
    "language_info": {
      "name": "python"
    }
  },
  "nbformat": 4,
  "nbformat_minor": 0
}